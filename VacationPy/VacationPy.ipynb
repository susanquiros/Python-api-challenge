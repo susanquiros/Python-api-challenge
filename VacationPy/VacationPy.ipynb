{
 "cells": [
  {
   "cell_type": "markdown",
   "metadata": {},
   "source": [
    "# VacationPy\n",
    "----\n",
    "\n",
    "#### Note\n",
    "* Keep an eye on your API usage. Use https://developers.google.com/maps/reporting/gmp-reporting as reference for how to monitor your usage and billing.\n",
    "\n",
    "* Instructions have been included for each segment. You do not have to follow them exactly, but they are included to help you think through the steps."
   ]
  },
  {
   "cell_type": "code",
   "execution_count": 7,
   "metadata": {},
   "outputs": [],
   "source": [
    "# Dependencies and Setup\n",
    "import matplotlib.pyplot as plt\n",
    "import pandas as pd\n",
    "import numpy as np\n",
    "import requests\n",
    "import gmaps\n",
    "import os\n",
    "\n",
    "# Import API key\n",
    "from api_keys import g_key\n",
    "gmaps.configure(api_key=g_key)"
   ]
  },
  {
   "cell_type": "markdown",
   "metadata": {},
   "source": [
    "### Store Part I results into DataFrame\n",
    "* Load the csv exported in Part I to a DataFrame"
   ]
  },
  {
   "cell_type": "code",
   "execution_count": 8,
   "metadata": {},
   "outputs": [
    {
     "data": {
      "text/html": [
       "<div>\n",
       "<style scoped>\n",
       "    .dataframe tbody tr th:only-of-type {\n",
       "        vertical-align: middle;\n",
       "    }\n",
       "\n",
       "    .dataframe tbody tr th {\n",
       "        vertical-align: top;\n",
       "    }\n",
       "\n",
       "    .dataframe thead th {\n",
       "        text-align: right;\n",
       "    }\n",
       "</style>\n",
       "<table border=\"1\" class=\"dataframe\">\n",
       "  <thead>\n",
       "    <tr style=\"text-align: right;\">\n",
       "      <th></th>\n",
       "      <th>City</th>\n",
       "      <th>Latitude</th>\n",
       "      <th>Longitude</th>\n",
       "      <th>Max Temperature</th>\n",
       "      <th>Humidity %</th>\n",
       "      <th>Cloudiness %</th>\n",
       "      <th>Wind Speed (km/hr)</th>\n",
       "      <th>Country</th>\n",
       "      <th>Date</th>\n",
       "    </tr>\n",
       "  </thead>\n",
       "  <tbody>\n",
       "    <tr>\n",
       "      <th>0</th>\n",
       "      <td>Lokosovo</td>\n",
       "      <td>61.1333</td>\n",
       "      <td>74.8167</td>\n",
       "      <td>8.64</td>\n",
       "      <td>89</td>\n",
       "      <td>100</td>\n",
       "      <td>8.28</td>\n",
       "      <td>RU</td>\n",
       "      <td>1622047144</td>\n",
       "    </tr>\n",
       "    <tr>\n",
       "      <th>1</th>\n",
       "      <td>Coahuayana Viejo</td>\n",
       "      <td>18.7333</td>\n",
       "      <td>-103.6833</td>\n",
       "      <td>30.71</td>\n",
       "      <td>47</td>\n",
       "      <td>90</td>\n",
       "      <td>2.86</td>\n",
       "      <td>MX</td>\n",
       "      <td>1622047145</td>\n",
       "    </tr>\n",
       "    <tr>\n",
       "      <th>2</th>\n",
       "      <td>Kavaratti</td>\n",
       "      <td>10.5669</td>\n",
       "      <td>72.6420</td>\n",
       "      <td>28.92</td>\n",
       "      <td>72</td>\n",
       "      <td>97</td>\n",
       "      <td>7.37</td>\n",
       "      <td>IN</td>\n",
       "      <td>1622046645</td>\n",
       "    </tr>\n",
       "    <tr>\n",
       "      <th>3</th>\n",
       "      <td>Wanaka</td>\n",
       "      <td>-44.7000</td>\n",
       "      <td>169.1500</td>\n",
       "      <td>2.98</td>\n",
       "      <td>62</td>\n",
       "      <td>9</td>\n",
       "      <td>2.27</td>\n",
       "      <td>NZ</td>\n",
       "      <td>1622047145</td>\n",
       "    </tr>\n",
       "    <tr>\n",
       "      <th>4</th>\n",
       "      <td>Ushuaia</td>\n",
       "      <td>-54.8000</td>\n",
       "      <td>-68.3000</td>\n",
       "      <td>-1.19</td>\n",
       "      <td>100</td>\n",
       "      <td>75</td>\n",
       "      <td>10.29</td>\n",
       "      <td>AR</td>\n",
       "      <td>1622047061</td>\n",
       "    </tr>\n",
       "    <tr>\n",
       "      <th>...</th>\n",
       "      <td>...</td>\n",
       "      <td>...</td>\n",
       "      <td>...</td>\n",
       "      <td>...</td>\n",
       "      <td>...</td>\n",
       "      <td>...</td>\n",
       "      <td>...</td>\n",
       "      <td>...</td>\n",
       "      <td>...</td>\n",
       "    </tr>\n",
       "    <tr>\n",
       "      <th>559</th>\n",
       "      <td>Bubaque</td>\n",
       "      <td>11.2833</td>\n",
       "      <td>-15.8333</td>\n",
       "      <td>26.07</td>\n",
       "      <td>74</td>\n",
       "      <td>98</td>\n",
       "      <td>5.37</td>\n",
       "      <td>GW</td>\n",
       "      <td>1622047345</td>\n",
       "    </tr>\n",
       "    <tr>\n",
       "      <th>560</th>\n",
       "      <td>Kaitangata</td>\n",
       "      <td>-46.2817</td>\n",
       "      <td>169.8464</td>\n",
       "      <td>1.49</td>\n",
       "      <td>69</td>\n",
       "      <td>11</td>\n",
       "      <td>1.90</td>\n",
       "      <td>NZ</td>\n",
       "      <td>1622047223</td>\n",
       "    </tr>\n",
       "    <tr>\n",
       "      <th>561</th>\n",
       "      <td>Leshukonskoye</td>\n",
       "      <td>64.8989</td>\n",
       "      <td>45.7622</td>\n",
       "      <td>5.83</td>\n",
       "      <td>50</td>\n",
       "      <td>82</td>\n",
       "      <td>2.24</td>\n",
       "      <td>RU</td>\n",
       "      <td>1622047389</td>\n",
       "    </tr>\n",
       "    <tr>\n",
       "      <th>562</th>\n",
       "      <td>Rongcheng</td>\n",
       "      <td>30.6340</td>\n",
       "      <td>117.8517</td>\n",
       "      <td>19.17</td>\n",
       "      <td>98</td>\n",
       "      <td>86</td>\n",
       "      <td>1.96</td>\n",
       "      <td>CN</td>\n",
       "      <td>1622047390</td>\n",
       "    </tr>\n",
       "    <tr>\n",
       "      <th>563</th>\n",
       "      <td>Monywa</td>\n",
       "      <td>22.1167</td>\n",
       "      <td>95.1333</td>\n",
       "      <td>30.76</td>\n",
       "      <td>57</td>\n",
       "      <td>57</td>\n",
       "      <td>8.67</td>\n",
       "      <td>MM</td>\n",
       "      <td>1622047391</td>\n",
       "    </tr>\n",
       "  </tbody>\n",
       "</table>\n",
       "<p>564 rows × 9 columns</p>\n",
       "</div>"
      ],
      "text/plain": [
       "                 City  Latitude  Longitude  Max Temperature  Humidity %  \\\n",
       "0            Lokosovo   61.1333    74.8167             8.64          89   \n",
       "1    Coahuayana Viejo   18.7333  -103.6833            30.71          47   \n",
       "2           Kavaratti   10.5669    72.6420            28.92          72   \n",
       "3              Wanaka  -44.7000   169.1500             2.98          62   \n",
       "4             Ushuaia  -54.8000   -68.3000            -1.19         100   \n",
       "..                ...       ...        ...              ...         ...   \n",
       "559           Bubaque   11.2833   -15.8333            26.07          74   \n",
       "560        Kaitangata  -46.2817   169.8464             1.49          69   \n",
       "561     Leshukonskoye   64.8989    45.7622             5.83          50   \n",
       "562         Rongcheng   30.6340   117.8517            19.17          98   \n",
       "563            Monywa   22.1167    95.1333            30.76          57   \n",
       "\n",
       "     Cloudiness %  Wind Speed (km/hr) Country        Date  \n",
       "0             100                8.28      RU  1622047144  \n",
       "1              90                2.86      MX  1622047145  \n",
       "2              97                7.37      IN  1622046645  \n",
       "3               9                2.27      NZ  1622047145  \n",
       "4              75               10.29      AR  1622047061  \n",
       "..            ...                 ...     ...         ...  \n",
       "559            98                5.37      GW  1622047345  \n",
       "560            11                1.90      NZ  1622047223  \n",
       "561            82                2.24      RU  1622047389  \n",
       "562            86                1.96      CN  1622047390  \n",
       "563            57                8.67      MM  1622047391  \n",
       "\n",
       "[564 rows x 9 columns]"
      ]
     },
     "execution_count": 8,
     "metadata": {},
     "output_type": "execute_result"
    }
   ],
   "source": [
    "#importing the csv file\n",
    "clean_city = pd.read_csv (r'C:\\Users\\squiros\\Python-api-challenge\\WeatherPy\\OutputData\\clean_city.csv')\n",
    "clean_city\n"
   ]
  },
  {
   "cell_type": "markdown",
   "metadata": {},
   "source": [
    "### Humidity Heatmap\n",
    "* Configure gmaps.\n",
    "* Use the Lat and Lng as locations and Humidity as the weight.\n",
    "* Add Heatmap layer to map."
   ]
  },
  {
   "cell_type": "code",
   "execution_count": 9,
   "metadata": {},
   "outputs": [],
   "source": [
    "#defyning the locations \n",
    "weather_locations = clean_city[['Latitude', 'Longitude']]\n",
    "\n",
    "weather_humidity= clean_city['Humidity %']"
   ]
  },
  {
   "cell_type": "code",
   "execution_count": 18,
   "metadata": {},
   "outputs": [
    {
     "data": {
      "application/vnd.jupyter.widget-view+json": {
       "model_id": "926dab8aa2cb4e7ca586324482af4a89",
       "version_major": 2,
       "version_minor": 0
      },
      "text/plain": [
       "Figure(layout=FigureLayout(border='1px solid black', height='700px', margin='0 auto 0 auto', padding='1px', wi…"
      ]
     },
     "metadata": {},
     "output_type": "display_data"
    }
   ],
   "source": [
    "fig_layout ={'width': '700px',\n",
    "    'height': '700px',\n",
    "    'border': '1px solid black',\n",
    "    'padding': '1px',\n",
    "    'margin': '0 auto 0 auto'\n",
    "}\n",
    "\n",
    "\n",
    "fig= gmaps.figure(layout= fig_layout)\n",
    "# Create heat layer\n",
    "heat_layer = gmaps.heatmap_layer(weather_locations, weights=weather_humidity, \n",
    "                                 dissipating=False, max_intensity=10,\n",
    "                                 point_radius=1)\n",
    "\n",
    "\n",
    "# Add layer\n",
    "fig.add_layer(heat_layer)\n",
    "\n",
    "# Display figure\n",
    "fig"
   ]
  },
  {
   "cell_type": "markdown",
   "metadata": {},
   "source": [
    "### Create new DataFrame fitting weather criteria\n",
    "* Narrow down the cities to fit weather conditions.\n",
    "* Drop any rows will null values."
   ]
  },
  {
   "cell_type": "code",
   "execution_count": null,
   "metadata": {},
   "outputs": [],
   "source": []
  },
  {
   "cell_type": "markdown",
   "metadata": {},
   "source": [
    "### Hotel Map\n",
    "* Store into variable named `hotel_df`.\n",
    "* Add a \"Hotel Name\" column to the DataFrame.\n",
    "* Set parameters to search for hotels with 5000 meters.\n",
    "* Hit the Google Places API for each city's coordinates.\n",
    "* Store the first Hotel result into the DataFrame.\n",
    "* Plot markers on top of the heatmap."
   ]
  },
  {
   "cell_type": "code",
   "execution_count": null,
   "metadata": {},
   "outputs": [],
   "source": []
  },
  {
   "cell_type": "code",
   "execution_count": null,
   "metadata": {},
   "outputs": [],
   "source": []
  },
  {
   "cell_type": "code",
   "execution_count": null,
   "metadata": {},
   "outputs": [],
   "source": [
    "# NOTE: Do not change any of the code in this cell\n",
    "\n",
    "# Using the template add the hotel marks to the heatmap\n",
    "info_box_template = \"\"\"\n",
    "<dl>\n",
    "<dt>Name</dt><dd>{Hotel Name}</dd>\n",
    "<dt>City</dt><dd>{City}</dd>\n",
    "<dt>Country</dt><dd>{Country}</dd>\n",
    "</dl>\n",
    "\"\"\"\n",
    "# Store the DataFrame Row\n",
    "# NOTE: be sure to update with your DataFrame name\n",
    "hotel_info = [info_box_template.format(**row) for index, row in hotel_df.iterrows()]\n",
    "locations = hotel_df[[\"Lat\", \"Lng\"]]"
   ]
  },
  {
   "cell_type": "code",
   "execution_count": null,
   "metadata": {},
   "outputs": [],
   "source": [
    "# Add marker layer ontop of heat map\n",
    "\n",
    "\n",
    "# Display figure\n"
   ]
  },
  {
   "cell_type": "code",
   "execution_count": null,
   "metadata": {},
   "outputs": [],
   "source": []
  }
 ],
 "metadata": {
  "kernelspec": {
   "display_name": "Python [conda env:root] *",
   "language": "python",
   "name": "conda-root-py"
  },
  "language_info": {
   "codemirror_mode": {
    "name": "ipython",
    "version": 3
   },
   "file_extension": ".py",
   "mimetype": "text/x-python",
   "name": "python",
   "nbconvert_exporter": "python",
   "pygments_lexer": "ipython3",
   "version": "3.8.5"
  },
  "latex_envs": {
   "LaTeX_envs_menu_present": true,
   "autoclose": false,
   "autocomplete": true,
   "bibliofile": "biblio.bib",
   "cite_by": "apalike",
   "current_citInitial": 1,
   "eqLabelWithNumbers": true,
   "eqNumInitial": 1,
   "hotkeys": {
    "equation": "Ctrl-E",
    "itemize": "Ctrl-I"
   },
   "labels_anchors": false,
   "latex_user_defs": false,
   "report_style_numbering": false,
   "user_envs_cfg": false
  }
 },
 "nbformat": 4,
 "nbformat_minor": 4
}
